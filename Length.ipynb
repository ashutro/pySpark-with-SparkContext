{
  "nbformat": 4,
  "nbformat_minor": 0,
  "metadata": {
    "colab": {
      "provenance": []
    },
    "kernelspec": {
      "name": "python3",
      "display_name": "Python 3"
    },
    "language_info": {
      "name": "python"
    }
  },
  "cells": [
    {
      "cell_type": "code",
      "source": [
        "# Install PySpark library\n",
        "!pip install -qq pyspark\n",
        "\n",
        "# Import necessary modules\n",
        "from pyspark import SparkContext, SparkConf\n",
        "\n",
        "# Configure Spark\n",
        "conf = SparkConf().setAppName(\"ReadRDD\").setMaster(\"local\")  # Set application name and execution mode\n",
        "sc = SparkContext(conf=conf)  # Create a SparkContext\n",
        "\n",
        "# Read text file into RDD\n",
        "line = sc.textFile(\"Path\")  # Replace \"Path\" with the actual path to your text file\n",
        "\n",
        "# Transform the RDD to calculate lengths of lines\n",
        "lengths = line.map(lambda s: len(s))  # Create an RDD of line lengths\n",
        "\n",
        "# Display line lengths\n",
        "print(lengths.collect())  # Collect and print the list of line lengths\n",
        "\n",
        "# Reduce to calculate the total length\n",
        "totalLength = lengths.reduce(lambda a, b: a + b)  # Calculate the total length using reduce operation\n",
        "\n",
        "# Display the total length\n",
        "print(totalLength)  # Print the total length of all lines\n",
        "\n",
        "# Stop the SparkContext\n",
        "sc.stop()  # Terminate the SparkContext to release resources\n"
      ],
      "metadata": {
        "id": "SeMStl-jmxhp"
      },
      "execution_count": 8,
      "outputs": []
    }
  ]
}